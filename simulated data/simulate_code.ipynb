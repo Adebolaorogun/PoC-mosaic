{
 "cells": [
  {
   "cell_type": "code",
   "execution_count": 2,
   "metadata": {},
   "outputs": [
    {
     "name": "stdout",
     "output_type": "stream",
     "text": [
      "Simulation data has been written to ./simulation_output_new.csv.\n"
     ]
    }
   ],
   "source": [
    "import csv\n",
    "import random\n",
    "import string\n",
    "\n",
    "num_rows = 20000\n",
    "\n",
    "used_combinations = set()\n",
    "\n",
    "def generate_data():\n",
    "    while True:\n",
    "        address = '0x' + ''.join(random.choice(string.hexdigits) for _ in range(16))\n",
    "        ens_name = ''.join(random.choice(string.ascii_lowercase) for _ in range(10)) + '.ens'\n",
    "        \n",
    "        if (ens_name, address) not in used_combinations:\n",
    "            used_combinations.add((ens_name, address))\n",
    "            break\n",
    "\n",
    "    op_token = round(random.uniform(0.1, 5.0), 2)\n",
    "    op_tokens_voting = random.randint(50, 200)\n",
    "    total_votes = random.randint(20, 100)\n",
    "    op_voting_nft = ''.join(random.choice(string.ascii_uppercase + string.digits) for _ in range(6))\n",
    "    total_proposal_interaction = random.randint(5, 50)\n",
    "    \n",
    "    return [address, ens_name, op_token, op_tokens_voting, total_votes, op_voting_nft, total_proposal_interaction]\n",
    "\n",
    "\n",
    "headers = ['address', 'ens_name', 'op_token', 'op_tokens_voting', 'total_votes', 'op_voting_nft', 'total_proposal_interaction']\n",
    "\n",
    "output_file = './simulation_output_new.csv'\n",
    "\n",
    "with open(output_file, 'w', newline='') as file:\n",
    "    writer = csv.writer(file)\n",
    "    \n",
    "    writer.writerow(headers)\n",
    " \n",
    "    for _ in range(num_rows):\n",
    "        data_row = generate_data()\n",
    "        writer.writerow(data_row)\n",
    "\n",
    "print(f\"Simulation data has been written to {output_file}.\")\n"
   ]
  },
  {
   "cell_type": "code",
   "execution_count": null,
   "metadata": {},
   "outputs": [],
   "source": []
  }
 ],
 "metadata": {
  "kernelspec": {
   "display_name": "base",
   "language": "python",
   "name": "python3"
  },
  "language_info": {
   "codemirror_mode": {
    "name": "ipython",
    "version": 3
   },
   "file_extension": ".py",
   "mimetype": "text/x-python",
   "name": "python",
   "nbconvert_exporter": "python",
   "pygments_lexer": "ipython3",
   "version": "3.9.13"
  },
  "orig_nbformat": 4
 },
 "nbformat": 4,
 "nbformat_minor": 2
}
